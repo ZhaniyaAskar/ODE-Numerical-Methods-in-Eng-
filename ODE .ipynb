{
 "cells": [
  {
   "cell_type": "code",
   "execution_count": 3,
   "id": "60fe52c3",
   "metadata": {},
   "outputs": [
    {
     "name": "stdout",
     "output_type": "stream",
     "text": [
      "x\tye\ty\t  error\n",
      "0.0000\t1.0000\t1.0000\t0.0000\n",
      "0.5000\t3.2188\t5.2500\t63.1068\n",
      "1.0000\t3.0000\t5.8750\t95.8333\n",
      "1.5000\t2.2188\t5.1250\t130.9859\n",
      "2.0000\t2.0000\t4.5000\t125.0000\n",
      "2.5000\t2.7188\t4.7500\t74.7126\n",
      "3.0000\t4.0000\t5.8750\t46.8750\n",
      "3.5000\t4.7188\t7.1250\t50.9934\n",
      "4.0000\t3.0000\t7.0000\t133.3333\n"
     ]
    }
   ],
   "source": [
    "#Euler\n",
    "def dy(x,y):\n",
    "    return -2*x**3+12*x**2-20*x+8.5\n",
    "\n",
    "xi = 0; xf = 4.5; h=0.5\n",
    "n=int((xf-xi)/h)\n",
    "x=0; y0=1; y=1\n",
    "print('x\\tye\\ty\\t  error');\n",
    "\n",
    "for i in range(1, n+1):\n",
    "    ye=-0.5*xi**4+4*xi**3-10*xi**2+8.5*xi+1\n",
    "    error=(abs(ye-y)/ye)*100\n",
    "    print('%.4f\\t%.4f\\t%.4f\\t%0.4f'% (xi,ye, y, error) ) \n",
    "    y=y+dy(xi,y)*h\n",
    "    xi=xi+h"
   ]
  },
  {
   "cell_type": "code",
   "execution_count": 1,
   "id": "1526b8ee",
   "metadata": {},
   "outputs": [
    {
     "name": "stdout",
     "output_type": "stream",
     "text": [
      "x    \t\t  y_int \t y \t\t error\n",
      "0.500000 \t 3.125000 \t 3.109375 \t3.398058 \n",
      "1.000000 \t 3.421875 \t 2.812500 \t6.250000 \n",
      "1.500000 \t 2.437500 \t 1.984375 \t10.563380 \n",
      "2.000000 \t 1.671875 \t 1.750000 \t12.500000 \n",
      "2.500000 \t 1.875000 \t 2.484375 \t8.620690 \n",
      "3.000000 \t 3.046875 \t 3.812500 \t4.687500 \n",
      "3.500000 \t 4.437500 \t 4.609375 \t2.317881 \n",
      "4.000000 \t 4.546875 \t 3.000000 \t0.000000 \n"
     ]
    }
   ],
   "source": [
    "#Midpoint\n",
    "import numpy as np\n",
    "import math\n",
    "def dy(x, y):\n",
    "    return -2*x**3+12*x**2-20*x+8.5\n",
    "xi=0\n",
    "xf=4\n",
    "h=0.5\n",
    "n=int((xf-xi)/h)\n",
    "x=0; y=1\n",
    "\n",
    "print ('x    \\t\\t  y_int \\t y \\t\\t error');\n",
    "for i in range (1, n+1):\n",
    "    dy1=dy(x, y)\n",
    "    ye=y+dy1*h/2\n",
    "    dy2=dy(x+h/2, ye)\n",
    "    y=y+dy2*h\n",
    "    x=x+h\n",
    "    ya=-0.5*x**4+4*x**3-10*x**2+8.5*x+1\n",
    "    error=(abs(ya-y)/ya)*100\n",
    "    print ('%f \\t %f \\t %f \\t%f '% (x,ye, y, error))\n"
   ]
  },
  {
   "cell_type": "code",
   "execution_count": 8,
   "id": "f0b675d2",
   "metadata": {},
   "outputs": [
    {
     "name": "stdout",
     "output_type": "stream",
     "text": [
      "x    \t\t  y_int \t y \t\t error\n",
      "1.000000 \t 5.000000 \t 6.701082 \t8.175635 \n",
      "2.000000 \t 12.252705 \t 16.319782 \t9.942521 \n",
      "3.000000 \t 27.972021 \t 37.199249 \t10.458352 \n",
      "4.000000 \t 62.692330 \t 83.337767 \t10.617089 \n"
     ]
    }
   ],
   "source": [
    "#Heun\n",
    "import numpy as np\n",
    "import math\n",
    "def dy(x, y):\n",
    "    return 4*math.exp(0.8*x)-0.5*y\n",
    "xi=0\n",
    "xf=4\n",
    "h=1\n",
    "n=int((xf-xi)/h)\n",
    "x=0; y0=2\n",
    "\n",
    "print ('x    \\t\\t  y_int \\t y \\t\\t error');\n",
    "for i in range (1, n+1):\n",
    "    dy1=dy(x, y0)\n",
    "    ye=y0+dy1*h\n",
    "    dy2=dy(x+h, ye)\n",
    "    y=y0+(dy1+dy2)/2*h\n",
    "    y0=y\n",
    "    x=x+h\n",
    "    ya=(4/1.3)*(math.exp(0.8*x)-math.exp(-0.5*x))+2*math.exp(-0.5*x)\n",
    "    error=(abs(ya-y)/ya)*100\n",
    "    print ('%f \\t %f \\t %f \\t%f '% (x,ye, y, error))\n",
    "    "
   ]
  },
  {
   "cell_type": "code",
   "execution_count": 131,
   "id": "3deabf78",
   "metadata": {},
   "outputs": [
    {
     "name": "stdout",
     "output_type": "stream",
     "text": [
      "x    \t\t  y_int \t y \t\t error\n",
      "0.500000 \t 4.187500 \t 3.277344 \t1.820388 \n",
      "1.000000 \t 3.746094 \t 3.101562 \t3.385417 \n",
      "1.500000 \t 2.539062 \t 2.347656 \t5.809859 \n",
      "2.000000 \t 1.878906 \t 2.140625 \t7.031250 \n",
      "2.500000 \t 2.328125 \t 2.855469 \t5.028736 \n",
      "3.000000 \t 3.699219 \t 4.117188 \t2.929688 \n",
      "3.500000 \t 5.054688 \t 4.800781 \t1.738411 \n",
      "4.000000 \t 4.707031 \t 3.031250 \t1.041667 \n"
     ]
    }
   ],
   "source": [
    "#Ra\n",
    "import numpy as np\n",
    "import math\n",
    "def dy(x, y):\n",
    "    return -2*x**3+12*x**2-20*x+8.5\n",
    "xi=0\n",
    "xf=4\n",
    "h=0.5\n",
    "n=int((xf-xi)/h)\n",
    "x=0; y=1\n",
    "\n",
    "print ('x    \\t\\t  y_int \\t y \\t\\t error')\n",
    "\n",
    "for i in range (1, n+1):\n",
    "    dy1=dy(x, y)\n",
    "    ye=y+dy1*3*h/4\n",
    "    dy2=dy(x+3*h/4, ye)\n",
    "    y=y+(1/3*dy1+2/3*dy2)*h\n",
    "    x=x+h\n",
    "    ya=-0.5*x**4+4*x**3-10*x**2+8.5*x+1\n",
    "    error=(abs(ya-y)/ya)*100\n",
    "    print ('%f \\t %f \\t %f \\t%f '% (x,ye, y, error))\n"
   ]
  },
  {
   "cell_type": "code",
   "execution_count": 105,
   "id": "d74aab67",
   "metadata": {},
   "outputs": [
    {
     "name": "stdout",
     "output_type": "stream",
     "text": [
      "\t\t\t Heun \t\t\t\tMidpoint \t\t\t Ralston\n",
      "  x \t\t   y \t\t |et | \t\t  y  \t\t |et | \t \t  y  \t\t |et | \n",
      "0.500000 \t 3.437500 \t 6.796117 \t3.109375\t 3.398058 \t3.277344 \t1.820388 \n",
      "1.000000 \t 3.375000 \t 12.500000 \t2.812500\t 6.250000 \t3.101562 \t3.385417 \n",
      "1.500000 \t 2.687500 \t 21.126761 \t1.984375\t 10.563380 \t2.347656 \t5.809859 \n",
      "2.000000 \t 2.500000 \t 25.000000 \t1.750000\t 12.500000 \t2.140625 \t7.031250 \n",
      "2.500000 \t 3.187500 \t 17.241379 \t2.484375\t 8.620690 \t2.855469 \t5.028736 \n",
      "3.000000 \t 4.375000 \t 9.375000 \t3.812500\t 4.687500 \t4.117188 \t2.929688 \n",
      "3.500000 \t 4.937500 \t 4.635762 \t4.609375\t 2.317881 \t4.800781 \t1.738411 \n",
      "4.000000 \t 3.000000 \t 0.000000 \t3.000000\t 0.000000 \t3.031250 \t1.041667 \n"
     ]
    }
   ],
   "source": [
    "#Heun Mid Ralston\n",
    "import numpy as np\n",
    "import math\n",
    "def dy(x, y):\n",
    "    return -2*x**3+12*x**2-20*x+8.5\n",
    "xi=0; xf=4; h=0.5\n",
    "n=int((xf-xi)/h)\n",
    "x1=0; x2=0; x3=0\n",
    "y1=1; y2=1; y3=1\n",
    "\n",
    "print ('\\t\\t\\t Heun \\t\\t\\t\\tMidpoint \\t\\t\\t Ralston')\n",
    "print ('  x \\t\\t   y \\t\\t |et | \\t\\t  y  \\t\\t |et | \\t \\t  y  \\t\\t |et | ')\n",
    "for i in range (1, n+1):\n",
    "    dy1_h=dy(x1, y1)\n",
    "    dy1_m=dy(x2, y2)\n",
    "    dy1_r=dy(x3, y3)\n",
    "    \n",
    "    ye_h=y1+dy1_h*h #Heun\n",
    "    ye_m=y2+dy1_m*h/2 #Mid\n",
    "    ye_r=y3+dy1_r*3*h/4 #Ralston\n",
    "    \n",
    "    dy2_h=dy(x1+h, ye_h) #Heun\n",
    "    dy2_m=dy(x2+h/2, ye_m) #Mid\n",
    "    dy2_r=dy(x3+3*h/4, ye_r) #Ralston\n",
    "    \n",
    "    y1=y1+(dy1_h+dy2_h)/2*h #Heun\n",
    "    y2=y2+dy2_m*h #Mid\n",
    "    y3=y3+(1/3*dy1_r+2/3*dy2_r)*h #ralston\n",
    "    \n",
    "    x1=x1+h\n",
    "    x2=x2+h\n",
    "    x3=x3+h\n",
    "    \n",
    "    ya_h=-0.5*x1**4+4*x1**3-10*x1**2+8.5*x1+1\n",
    "    ya_m=-0.5*x2**4+4*x2**3-10*x2**2+8.5*x2+1\n",
    "    ya_r=-0.5*x3**4+4*x3**3-10*x3**2+8.5*x3+1\n",
    "    \n",
    "    error_h=(abs(ya_h-y1)/ya_h)*100\n",
    "    error_m=(abs(ya_m-y2)/ya_m)*100\n",
    "    error_r=(abs(ya_r-y3)/ya_r)*100\n",
    "    \n",
    "    print ('%f \\t %f \\t %f \\t%f\\t %f \\t%f \\t%f '% (x1 ,y1,error_h, y2, error_m, y3, error_r))\n",
    "    "
   ]
  },
  {
   "cell_type": "code",
   "execution_count": 133,
   "id": "6bc59e57",
   "metadata": {},
   "outputs": [
    {
     "name": "stdout",
     "output_type": "stream",
     "text": [
      "0.500000 \t 2.229167 \t 30.744337 \n",
      "1.000000 \t 1.708333 \t 43.055556 \n",
      "1.500000 \t 1.062500 \t 52.112676 \n",
      "2.000000 \t 1.166667 \t 41.666667 \n",
      "2.500000 \t 2.145833 \t 21.072797 \n",
      "3.000000 \t 3.375000 \t 15.625000 \n",
      "3.500000 \t 3.479167 \t 26.269316 \n",
      "4.000000 \t 0.333333 \t 88.888889 \n",
      "\n"
     ]
    }
   ],
   "source": [
    "#Third Order\n",
    "import numpy as np\n",
    "import math\n",
    "def f(x, y):\n",
    "    return -2*x**3+12*x**2-20*x+8.5\n",
    "\n",
    "def third_rk (xi, y, h, xf):\n",
    "    yinew=0\n",
    "    n=int((xf-xi)/h)\n",
    "    xi=0\n",
    "    y=1\n",
    "    h=0.5\n",
    "    xf=4.5\n",
    "    for i in range (0, n):\n",
    "        k1=f(xi, y)\n",
    "        k2=f(xi+h, y+1/2*k1*h)\n",
    "        k3=f(xi+h, y-k1*h+2*k2*h)\n",
    "        yinew=y+(1/6)*(k1+4*k2+k3)*h\n",
    "        y=yinew\n",
    "        xi=xi+h\n",
    "        ytrue=-0.5*xi**4+4*xi**3-10*xi**2+8.5*xi+1\n",
    "        error=(abs(ytrue-yinew)/ytrue)*100\n",
    "        print ('%f \\t %f \\t %f '% (xi ,y, error))\n",
    "    return\n",
    "\n",
    "result_rk=third_rk (xi, y, h, xf)\n",
    "print ()"
   ]
  },
  {
   "cell_type": "code",
   "execution_count": 141,
   "id": "a9e3a77e",
   "metadata": {},
   "outputs": [
    {
     "name": "stdout",
     "output_type": "stream",
     "text": [
      "x    \t\t  y_int \t y \t\t error\n",
      "0.500000 \t 2.080856 \t 2.051632 \t1.404446 \n",
      "1.000000 \t 2.626948 \t 2.536277 \t3.451590 \n",
      "1.500000 \t 4.087229 \t 3.906789 \t4.414727 \n",
      "2.000000 \t 6.568909 \t 6.344784 \t3.411904 \n",
      "2.500000 \t 8.871805 \t 8.748588 \t1.388860 \n",
      "3.000000 \t 9.611892 \t 9.576568 \t0.367499 \n",
      "3.500000 \t 9.765937 \t 9.639375 \t1.295960 \n",
      "4.000000 \t 11.539866 \t 11.154816 \t3.336693 \n",
      "4.500000 \t 17.117778 \t 16.305226 \t4.746831 \n",
      "5.000000 \t 27.914673 \t 26.714744 \t4.298560 \n"
     ]
    }
   ],
   "source": [
    "#Third Order RH\n",
    "import numpy as np\n",
    "import math\n",
    "def dy(x, y):\n",
    "    return math.sin(x)**2*y\n",
    "xi=0; xf=5; h=0.5\n",
    "n=int((xf-xi)/h)\n",
    "x=0; y=2\n",
    "print ('x    \\t\\t  y_int \\t y \\t\\t error')\n",
    "for i in range (1, n+1):\n",
    "    k1=dy(x, y)\n",
    "    k2=dy(x+h/2, y+k1*h/2)\n",
    "    k3=dy(x+h/2, y-k1*h+2*k2*h)\n",
    "    y=y+(1/6)*(k1+4*k2+k3)*h\n",
    "    x=x+h\n",
    "    #ya=-0.5*x**4+4*x**3-10*x**2+8.5*x+1\n",
    "    ya=2*math.exp(0.5*(x-math.sin(x)*math.cos(x)))\n",
    "    \n",
    "    error=(abs(ya-y)/ya)*100\n",
    "    print ('%f \\t %f \\t %f \\t%f '% (x, ya, y, error))"
   ]
  },
  {
   "cell_type": "code",
   "execution_count": 142,
   "id": "e3035b66",
   "metadata": {},
   "outputs": [
    {
     "name": "stdout",
     "output_type": "stream",
     "text": [
      "x    \t\t  y_int \t y \t\t error\n",
      "0.500000 \t 2.080856 \t 2.080616 \t0.011518 \n",
      "1.000000 \t 2.626948 \t 2.626551 \t0.015108 \n",
      "1.500000 \t 4.087229 \t 4.086093 \t0.027778 \n",
      "2.000000 \t 6.568909 \t 6.566018 \t0.044007 \n",
      "2.500000 \t 8.871805 \t 8.867524 \t0.048257 \n",
      "3.000000 \t 9.611892 \t 9.606408 \t0.057049 \n",
      "3.500000 \t 9.765937 \t 9.759067 \t0.070347 \n",
      "4.000000 \t 11.539866 \t 11.531199 \t0.075104 \n",
      "4.500000 \t 17.117778 \t 17.103444 \t0.083735 \n",
      "5.000000 \t 27.914673 \t 27.886259 \t0.101790 \n"
     ]
    }
   ],
   "source": [
    "#Forth Order RH\n",
    "import numpy as np\n",
    "import math\n",
    "def dy(x, y):\n",
    "    return math.sin(x)**2*y\n",
    "xi=0; xf=5; h=0.5\n",
    "n=int((xf-xi)/h)\n",
    "x=0; y=2\n",
    "print ('x    \\t\\t  y_int \\t y \\t\\t error')\n",
    "for i in range (1, n+1):\n",
    "    k1=dy(x, y)\n",
    "    k2=dy(x+h/2, y+k1*h/2)\n",
    "    k3=dy(x+h/2, y+k2*h/2)\n",
    "    k4=dy(x+h, y+k3*h)\n",
    "    y=y+(1/6)*(k1+2*k2+2*k3+k4)*h\n",
    "    x=x+h\n",
    "    #ya=-0.5*x**4+4*x**3-10*x**2+8.5*x+1\n",
    "    ya=2*math.exp(0.5*(x-math.sin(x)*math.cos(x)))\n",
    "    \n",
    "    error=(abs(ya-y)/ya)*100\n",
    "    print ('%f \\t %f \\t %f \\t%f '% (x, ya, y, error))"
   ]
  },
  {
   "cell_type": "code",
   "execution_count": 11,
   "id": "7557181c",
   "metadata": {},
   "outputs": [
    {
     "name": "stdout",
     "output_type": "stream",
     "text": [
      "x\tye\ty\t\n",
      "0.0000\t4.0000\t6.0000\n",
      "0.5000\t3.0000\t6.9000\n",
      "1.0000\t2.2500\t7.7150\n",
      "1.5000\t1.6875\t8.4453\n"
     ]
    }
   ],
   "source": [
    "#Euler\n",
    "def dy(x,y):\n",
    "    return -0.5*y1\n",
    "def dy2 (x,y):\n",
    "    return 4-0.3*y2-0.1*y1\n",
    "xi = 0; xf = 2; h=0.5\n",
    "n=int((xf-xi)/h)\n",
    "x=0; y1=4; y2=6\n",
    "print('x\\tye\\ty\\t');\n",
    "\n",
    "for i in range(1, n+1):\n",
    "    #ye=-0.5*xi**4+4*xi**3-10*xi**2+8.5*xi+1\n",
    "    #error=(abs(ye-y)/ye)*100\n",
    "    print('%.4f\\t%.4f\\t%.4f'% (xi,y1,y2)) \n",
    "    y1_new=y1+dy(xi,y1)*h\n",
    "    y2_new=y2+dy2(xi,y1)*h\n",
    "    y1=y1_new\n",
    "    y2=y2_new\n",
    "    xi=xi+h"
   ]
  },
  {
   "cell_type": "code",
   "execution_count": 15,
   "id": "07549931",
   "metadata": {},
   "outputs": [
    {
     "name": "stdout",
     "output_type": "stream",
     "text": [
      "x    \t\t  y_int \t y \t\t error\n"
     ]
    },
    {
     "ename": "TypeError",
     "evalue": "'float' object is not callable",
     "output_type": "error",
     "traceback": [
      "\u001b[1;31m---------------------------------------------------------------------------\u001b[0m",
      "\u001b[1;31mTypeError\u001b[0m                                 Traceback (most recent call last)",
      "\u001b[1;32m~\\AppData\\Local\\Temp\\ipykernel_17548\\2123798363.py\u001b[0m in \u001b[0;36m<module>\u001b[1;34m\u001b[0m\n\u001b[0;32m     18\u001b[0m     \u001b[0my1_new\u001b[0m\u001b[1;33m=\u001b[0m\u001b[0my1\u001b[0m\u001b[1;33m+\u001b[0m\u001b[1;33m(\u001b[0m\u001b[1;36m1\u001b[0m\u001b[1;33m/\u001b[0m\u001b[1;36m3\u001b[0m\u001b[1;33m*\u001b[0m\u001b[0mdy1\u001b[0m\u001b[1;33m+\u001b[0m\u001b[1;36m2\u001b[0m\u001b[1;33m/\u001b[0m\u001b[1;36m3\u001b[0m\u001b[1;33m*\u001b[0m\u001b[0mdy12\u001b[0m\u001b[1;33m)\u001b[0m\u001b[1;33m*\u001b[0m\u001b[0mh\u001b[0m\u001b[1;33m\u001b[0m\u001b[1;33m\u001b[0m\u001b[0m\n\u001b[0;32m     19\u001b[0m \u001b[1;33m\u001b[0m\u001b[0m\n\u001b[1;32m---> 20\u001b[1;33m     \u001b[0mdy2\u001b[0m\u001b[1;33m=\u001b[0m\u001b[0mdy1\u001b[0m\u001b[1;33m(\u001b[0m\u001b[0mx\u001b[0m\u001b[1;33m,\u001b[0m \u001b[0my\u001b[0m\u001b[1;33m)\u001b[0m\u001b[1;33m\u001b[0m\u001b[1;33m\u001b[0m\u001b[0m\n\u001b[0m\u001b[0;32m     21\u001b[0m     \u001b[0mye2\u001b[0m\u001b[1;33m=\u001b[0m\u001b[0my2\u001b[0m\u001b[1;33m+\u001b[0m\u001b[0mdy2\u001b[0m\u001b[1;33m*\u001b[0m\u001b[1;36m3\u001b[0m\u001b[1;33m*\u001b[0m\u001b[0mh\u001b[0m\u001b[1;33m/\u001b[0m\u001b[1;36m4\u001b[0m\u001b[1;33m\u001b[0m\u001b[1;33m\u001b[0m\u001b[0m\n\u001b[0;32m     22\u001b[0m     \u001b[0mdy22\u001b[0m\u001b[1;33m=\u001b[0m\u001b[0mdy12\u001b[0m\u001b[1;33m(\u001b[0m\u001b[0mx\u001b[0m\u001b[1;33m+\u001b[0m\u001b[1;36m3\u001b[0m\u001b[1;33m*\u001b[0m\u001b[0mh\u001b[0m\u001b[1;33m/\u001b[0m\u001b[1;36m4\u001b[0m\u001b[1;33m,\u001b[0m \u001b[0mye2\u001b[0m\u001b[1;33m)\u001b[0m\u001b[1;33m\u001b[0m\u001b[1;33m\u001b[0m\u001b[0m\n",
      "\u001b[1;31mTypeError\u001b[0m: 'float' object is not callable"
     ]
    }
   ],
   "source": [
    "#Ralston\n",
    "import numpy as np\n",
    "import math\n",
    "def dy1(x,y):\n",
    "    return -0.5*y1\n",
    "def dy12 (x,y):\n",
    "    return 4-0.3*y2-0.1*y1\n",
    "\n",
    "xi = 0; xf = 2; h=0.5\n",
    "n=int((xf-xi)/h)\n",
    "x=0; y1=4; y2=6\n",
    "print ('x    \\t\\t  y_int \\t y \\t\\t error')\n",
    "\n",
    "for i in range (1, n+1):\n",
    "    dy1=dy1(x, y)\n",
    "    ye1=y1+dy1*3*h/4\n",
    "    dy12=dy12(x+3*h/4, ye1)\n",
    "    y1_new=y1+(1/3*dy1+2/3*dy12)*h\n",
    "    \n",
    "    dy2=dy1(x, y)\n",
    "    ye2=y2+dy2*3*h/4\n",
    "    dy22=dy12(x+3*h/4, ye2)\n",
    "    y2_new=y2+(1/3*dy2+2/3*dy22)*h\n",
    "    \n",
    "    y1=y1_new\n",
    "    y2=y2_new\n",
    "    x=x+h\n",
    "    ya=-0.5*x**4+4*x**3-10*x**2+8.5*x+1\n",
    "    error1=(abs(ya-y1)/ya)*100\n",
    "    error2=(abs(ya-y2)/ya)*100\n",
    "    \n",
    "    print ('%f \\t %f \\t %f \\t%f '% (x,ye1, y1,ye2, y2, error1, error2))\n"
   ]
  },
  {
   "cell_type": "code",
   "execution_count": null,
   "id": "3fa3b53c",
   "metadata": {},
   "outputs": [],
   "source": []
  }
 ],
 "metadata": {
  "kernelspec": {
   "display_name": "Python 3 (ipykernel)",
   "language": "python",
   "name": "python3"
  },
  "language_info": {
   "codemirror_mode": {
    "name": "ipython",
    "version": 3
   },
   "file_extension": ".py",
   "mimetype": "text/x-python",
   "name": "python",
   "nbconvert_exporter": "python",
   "pygments_lexer": "ipython3",
   "version": "3.9.13"
  }
 },
 "nbformat": 4,
 "nbformat_minor": 5
}
