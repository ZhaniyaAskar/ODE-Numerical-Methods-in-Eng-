{
 "cells": [
  {
   "cell_type": "code",
   "execution_count": 10,
   "id": "b9336d5e",
   "metadata": {
    "scrolled": true
   },
   "outputs": [
    {
     "name": "stdout",
     "output_type": "stream",
     "text": [
      "Y is equal to: [[4.51688527]\n",
      " [4.89012354]\n",
      " [5.23457853]\n",
      " [5.55338585]\n",
      " [5.84949768]\n",
      " [6.1253615 ]\n",
      " [6.38315184]]\n",
      "Z is equal to:\n",
      " [[ 1.          0.0037037  -0.0167292 ]\n",
      " [ 1.          0.00357143 -0.01746473]\n",
      " [ 1.          0.00344828 -0.01805027]\n",
      " [ 1.          0.00333333 -0.01851129]\n",
      " [ 1.          0.00322581 -0.01886935]\n",
      " [ 1.          0.003125   -0.01914175]\n",
      " [ 1.          0.0030303  -0.01934288]]\n",
      "\n",
      "Sr is equal to: 8.3237e-08 \n",
      "\n",
      "Syx:  [[0.00014425]] \n",
      "\n",
      "Sa0: [[0.01271768]] \n",
      "\n",
      "Sa1:  [[1.58906049]] \n",
      "\n",
      "Sa2:  [[0.40617246]] \n",
      "\n",
      "------------------  -------------  ------------------\n",
      "Lower boundary (L)  Coefficient a  Upper boundary (U)\n",
      "1.3833e+01          1.3868e+01     1.3903e+01\n",
      "-2.6617e+03         -2.6572e+03    -2.6528e+03\n",
      "-3.0453e+01         -2.9325e+01    -2.8197e+01\n",
      "------------------  -------------  ------------------\n",
      "Coefficients of Antoine equation:\n",
      " A = 1.3868e+01 \n",
      " B = 2.2506e+03 \n",
      " C = -2.9325e+01\n"
     ]
    },
    {
     "data": {
      "image/png": "[encoded data removed]",
      "text/plain": [
       "<Figure size 640x480 with 1 Axes>"
      ]
     },
     "metadata": {},
     "output_type": "display_data"
    }
   ],
   "source": [
    "import numpy as np\n",
    "import matplotlib.pyplot as plt\n",
    "from tabulate import tabulate\n",
    "from scipy import stats\n",
    "\n",
    "\n",
    "P= np.array([91.55, 132.97, 187.65, 258.11, 347.06, 457.31, 591.79])\n",
    "T = np.array([270, 280, 290, 300, 310, 320, 330])\n",
    "\n",
    "x1=1/T\n",
    "x2=-np.log(P)/T\n",
    "Y=np.matrix([np.log(P)]).T\n",
    "print ('Y is equal to:', Y)\n",
    "Z=np.matrix([np.ones(len(T)), x1,x2]).T\n",
    "print ('Z is equal to:\\n', Z)\n",
    "\n",
    "\n",
    "a= np.linalg.inv(Z.T.dot(Z)).dot(Z.T).dot(Y)\n",
    "Sr=(Y[0]-a[0]-a[1]*x1[0]-a[2]*x2[0])**2+(Y[1]-a[0]-a[1]*x1[1]-a[2]*x2[1])**2+(Y[2]-a[0]-a[1]*x1[2]-a[2]*x2[2])**2+(Y[3]-a[0]-a[1]*x1[3]-a[2]*x2[3])**2+(Y[4]-a[0]-a[1]*x1[4]-a[2]*x2[4])**2+(Y[5]-a[0]-a[1]*x1[5]-a[2]*x2[5])**2+(Y[6]-a[0]-a[1]*x1[6]-a[2]*x2[6])**2\n",
    "print(\"\\nSr is equal to:\",'{0:2.4e}'.format(np.matrix.item(Sr)), '\\n')\n",
    "Syx=np.sqrt(Sr/(7-3))\n",
    "print(\"Syx: \", Syx, '\\n')\n",
    "\n",
    "Zinv=np.linalg.inv(Z.T.dot(Z))\n",
    "\n",
    "Sa0=np.sqrt(Zinv[0,0]*(Syx**2))\n",
    "Sa1=np.sqrt(Zinv[1,1]*(Syx**2))\n",
    "Sa2=np.sqrt(Zinv[2,2]*(Syx**2))\n",
    "print(\"Sa0:\", Sa0, '\\n')\n",
    "print(\"Sa1: \", Sa1, '\\n')\n",
    "print(\"Sa2: \",Sa2, '\\n')\n",
    "\n",
    "\n",
    "Tvalue=stats.t.ppf(1.-0.025, df=4) #from excel \n",
    "L_0='{0:2.4e}'.format(float(a[0]-Tvalue*Sa0))\n",
    "U_0='{0:2.4e}'.format(float(a[0]+Tvalue*Sa0))\n",
    "L_1='{0:2.4e}'.format(float(a[1]-Tvalue*Sa1))\n",
    "U_1='{0:2.4e}'.format(float(a[1]+Tvalue*Sa1))\n",
    "L_2='{0:2.4e}'.format(float(a[2]-Tvalue*Sa2))\n",
    "U_2='{0:2.4e}'.format(float(a[2]+Tvalue*Sa2))\n",
    "\n",
    "Table=[[\"Lower boundary (L)\",\"Coefficient a\",\"Upper boundary (U)\"],[L_0,'{0:2.4e}'.format(float(a[0])),U_0],[L_1,'{0:2.4e}'.format(float(a[1])),U_1],[L_2,'{0:2.4e}'.format(float(a[2])),U_2]]\n",
    "print(tabulate(Table))\n",
    "A=float(a[0])\n",
    "C=float(a[2])\n",
    "B=float((A*C)-a[1])\n",
    "\n",
    "print(\"Coefficients of Antoine equation:\\n\", \"A =\",'{0:2.4e}'.format(A),\"\\n\",\"B =\",'{0:2.4e}'.format(B),\"\\n\",\"C =\",'{0:2.4e}'.format(C))\n",
    "\n",
    "    \n",
    "y = np.exp(A-(B/(C+T)))\n",
    "plt.figure(1)\n",
    "plt.plot(T, y, color='pink')\n",
    "plt.scatter(T, P, color='blue')\n",
    "plt.xlabel('T (K)')\n",
    "plt.ylabel('P_sat (kPa)')\n",
    "plt.show()"
   ]
  },
  {
   "cell_type": "code",
   "execution_count": null,
   "id": "911589a0",
   "metadata": {},
   "outputs": [],
   "source": []
  }
 ],
 "metadata": {
  "kernelspec": {
   "display_name": "Python 3 (ipykernel)",
   "language": "python",
   "name": "python3"
  },
  "language_info": {
   "codemirror_mode": {
    "name": "ipython",
    "version": 3
   },
   "file_extension": ".py",
   "mimetype": "text/x-python",
   "name": "python",
   "nbconvert_exporter": "python",
   "pygments_lexer": "ipython3",
   "version": "3.9.13"
  }
 },
 "nbformat": 4,
 "nbformat_minor": 5
}
